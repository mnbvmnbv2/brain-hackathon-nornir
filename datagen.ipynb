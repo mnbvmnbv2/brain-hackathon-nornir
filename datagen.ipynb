{
 "cells": [
  {
   "cell_type": "code",
   "execution_count": 1,
   "metadata": {},
   "outputs": [],
   "source": [
    "import pandas as pd\n",
    "import numpy as np"
   ]
  },
  {
   "cell_type": "code",
   "execution_count": 2,
   "metadata": {},
   "outputs": [],
   "source": [
    "weekdays = [\n",
    "    (0, 1),\n",
    "    (1, 1),\n",
    "    (2, 0.2),\n",
    "    (3, 1),\n",
    "    (4, 2),\n",
    "    (5, 2),\n",
    "    (6, 1),\n",
    "]\n",
    "months = [\n",
    "    (0, 1.5),\n",
    "    (1, 1.2),\n",
    "    (2, 1),\n",
    "    (3, 1),\n",
    "    (4, 0.5),\n",
    "    (5, 1),\n",
    "    (6, 1),\n",
    "    (7, 1),\n",
    "    (8, 1),\n",
    "    (9, 1),\n",
    "    (10, 1.5),\n",
    "    (11, 2),\n",
    "]\n",
    "# times with arrival coefficient\n",
    "times = [\n",
    "    (3600 * 0, 2),\n",
    "    (3600 * 1, 3),\n",
    "    (3600 * 2, 1),\n",
    "    (3600 * 3, 1),\n",
    "    (3600 * 4, 1),\n",
    "    (3600 * 5, 1),\n",
    "    (3600 * 6, 0.8),\n",
    "    (3600 * 7, 0.3),\n",
    "    (3600 * 8, 0.6),\n",
    "    (3600 * 9, 0.5),\n",
    "    (3600 * 10, 0.4),\n",
    "    (3600 * 11, 0.3),\n",
    "    (3600 * 12, 0.7),\n",
    "    (3600 * 13, 0.5),\n",
    "    (3600 * 14, 0.7),\n",
    "    (3600 * 15, 1),\n",
    "    (3600 * 16, 1),\n",
    "    (3600 * 17, 1),\n",
    "    (3600 * 18, 1),\n",
    "    (3600 * 19, 1),\n",
    "    (3600 * 20, 1.2),\n",
    "    (3600 * 21, 1.5),\n",
    "    (3600 * 22, 1.8),\n",
    "    (3600 * 23, 2),\n",
    "]"
   ]
  },
  {
   "cell_type": "code",
   "execution_count": 3,
   "metadata": {},
   "outputs": [],
   "source": [
    "def make_df(size=100):\n",
    "    outputs = []\n",
    "    for idx in range(size):\n",
    "        weekday_idx = np.random.randint(0, len(weekdays))\n",
    "        weekday = weekdays[weekday_idx]\n",
    "        month_idx = np.random.randint(0, len(months))\n",
    "        month = months[month_idx]\n",
    "        time_idx = np.random.randint(0, len(times))\n",
    "        _time = times[time_idx]\n",
    "\n",
    "        arrival_rate_lam = 1 * weekday[1] * month[1] * _time[1]\n",
    "        arrival_rate = np.random.poisson(lam=arrival_rate_lam)\n",
    "\n",
    "        output = {\n",
    "            \"weekday\": weekday[0],\n",
    "            \"month\": month[0],\n",
    "            \"time\": _time[0],\n",
    "            \"arrivalrate\": arrival_rate,\n",
    "        }\n",
    "        outputs.append(output)\n",
    "    df = pd.DataFrame(outputs, ignore_index=True)\n",
    "    return df"
   ]
  },
  {
   "cell_type": "code",
   "execution_count": 4,
   "metadata": {},
   "outputs": [
    {
     "ename": "TypeError",
     "evalue": "cannot concatenate object of type '<class 'dict'>'; only Series and DataFrame objs are valid",
     "output_type": "error",
     "traceback": [
      "\u001b[1;31m---------------------------------------------------------------------------\u001b[0m",
      "\u001b[1;31mTypeError\u001b[0m                                 Traceback (most recent call last)",
      "\u001b[1;32mc:\\Users\\Ferdi\\Documents\\GitHub\\brain-hackathon-nornir\\datagen.ipynb Cell 4\u001b[0m in \u001b[0;36m1\n\u001b[1;32m----> <a href='vscode-notebook-cell:/c%3A/Users/Ferdi/Documents/GitHub/brain-hackathon-nornir/datagen.ipynb#W3sZmlsZQ%3D%3D?line=0'>1</a>\u001b[0m df \u001b[39m=\u001b[39m make_df(size\u001b[39m=\u001b[39m\u001b[39m100\u001b[39m)\n\u001b[0;32m      <a href='vscode-notebook-cell:/c%3A/Users/Ferdi/Documents/GitHub/brain-hackathon-nornir/datagen.ipynb#W3sZmlsZQ%3D%3D?line=1'>2</a>\u001b[0m df\u001b[39m.\u001b[39mto_csv(\u001b[39m\"\u001b[39m\u001b[39mdata.csv\u001b[39m\u001b[39m\"\u001b[39m, index\u001b[39m=\u001b[39m\u001b[39mFalse\u001b[39;00m)\n",
      "\u001b[1;32mc:\\Users\\Ferdi\\Documents\\GitHub\\brain-hackathon-nornir\\datagen.ipynb Cell 4\u001b[0m in \u001b[0;36m2\n\u001b[0;32m     <a href='vscode-notebook-cell:/c%3A/Users/Ferdi/Documents/GitHub/brain-hackathon-nornir/datagen.ipynb#W3sZmlsZQ%3D%3D?line=14'>15</a>\u001b[0m     output \u001b[39m=\u001b[39m {\n\u001b[0;32m     <a href='vscode-notebook-cell:/c%3A/Users/Ferdi/Documents/GitHub/brain-hackathon-nornir/datagen.ipynb#W3sZmlsZQ%3D%3D?line=15'>16</a>\u001b[0m         \u001b[39m\"\u001b[39m\u001b[39mweekday\u001b[39m\u001b[39m\"\u001b[39m: weekday[\u001b[39m0\u001b[39m],\n\u001b[0;32m     <a href='vscode-notebook-cell:/c%3A/Users/Ferdi/Documents/GitHub/brain-hackathon-nornir/datagen.ipynb#W3sZmlsZQ%3D%3D?line=16'>17</a>\u001b[0m         \u001b[39m\"\u001b[39m\u001b[39mmonth\u001b[39m\u001b[39m\"\u001b[39m: month[\u001b[39m0\u001b[39m],\n\u001b[0;32m     <a href='vscode-notebook-cell:/c%3A/Users/Ferdi/Documents/GitHub/brain-hackathon-nornir/datagen.ipynb#W3sZmlsZQ%3D%3D?line=17'>18</a>\u001b[0m         \u001b[39m\"\u001b[39m\u001b[39mtime\u001b[39m\u001b[39m\"\u001b[39m: _time[\u001b[39m0\u001b[39m],\n\u001b[0;32m     <a href='vscode-notebook-cell:/c%3A/Users/Ferdi/Documents/GitHub/brain-hackathon-nornir/datagen.ipynb#W3sZmlsZQ%3D%3D?line=18'>19</a>\u001b[0m         \u001b[39m\"\u001b[39m\u001b[39marrivalrate\u001b[39m\u001b[39m\"\u001b[39m: arrival_rate,\n\u001b[0;32m     <a href='vscode-notebook-cell:/c%3A/Users/Ferdi/Documents/GitHub/brain-hackathon-nornir/datagen.ipynb#W3sZmlsZQ%3D%3D?line=19'>20</a>\u001b[0m     }\n\u001b[0;32m     <a href='vscode-notebook-cell:/c%3A/Users/Ferdi/Documents/GitHub/brain-hackathon-nornir/datagen.ipynb#W3sZmlsZQ%3D%3D?line=20'>21</a>\u001b[0m     outputs\u001b[39m.\u001b[39mappend(output)\n\u001b[1;32m---> <a href='vscode-notebook-cell:/c%3A/Users/Ferdi/Documents/GitHub/brain-hackathon-nornir/datagen.ipynb#W3sZmlsZQ%3D%3D?line=21'>22</a>\u001b[0m df \u001b[39m=\u001b[39m pd\u001b[39m.\u001b[39;49mconcat(outputs, ignore_index\u001b[39m=\u001b[39;49m\u001b[39mTrue\u001b[39;49;00m)\n\u001b[0;32m     <a href='vscode-notebook-cell:/c%3A/Users/Ferdi/Documents/GitHub/brain-hackathon-nornir/datagen.ipynb#W3sZmlsZQ%3D%3D?line=22'>23</a>\u001b[0m \u001b[39mreturn\u001b[39;00m df\n",
      "File \u001b[1;32mc:\\Users\\Ferdi\\AppData\\Local\\Programs\\Python\\Python310\\lib\\site-packages\\pandas\\util\\_decorators.py:331\u001b[0m, in \u001b[0;36mdeprecate_nonkeyword_arguments.<locals>.decorate.<locals>.wrapper\u001b[1;34m(*args, **kwargs)\u001b[0m\n\u001b[0;32m    325\u001b[0m \u001b[39mif\u001b[39;00m \u001b[39mlen\u001b[39m(args) \u001b[39m>\u001b[39m num_allow_args:\n\u001b[0;32m    326\u001b[0m     warnings\u001b[39m.\u001b[39mwarn(\n\u001b[0;32m    327\u001b[0m         msg\u001b[39m.\u001b[39mformat(arguments\u001b[39m=\u001b[39m_format_argument_list(allow_args)),\n\u001b[0;32m    328\u001b[0m         \u001b[39mFutureWarning\u001b[39;00m,\n\u001b[0;32m    329\u001b[0m         stacklevel\u001b[39m=\u001b[39mfind_stack_level(),\n\u001b[0;32m    330\u001b[0m     )\n\u001b[1;32m--> 331\u001b[0m \u001b[39mreturn\u001b[39;00m func(\u001b[39m*\u001b[39margs, \u001b[39m*\u001b[39m\u001b[39m*\u001b[39mkwargs)\n",
      "File \u001b[1;32mc:\\Users\\Ferdi\\AppData\\Local\\Programs\\Python\\Python310\\lib\\site-packages\\pandas\\core\\reshape\\concat.py:368\u001b[0m, in \u001b[0;36mconcat\u001b[1;34m(objs, axis, join, ignore_index, keys, levels, names, verify_integrity, sort, copy)\u001b[0m\n\u001b[0;32m    146\u001b[0m \u001b[39m@deprecate_nonkeyword_arguments\u001b[39m(version\u001b[39m=\u001b[39m\u001b[39mNone\u001b[39;00m, allowed_args\u001b[39m=\u001b[39m[\u001b[39m\"\u001b[39m\u001b[39mobjs\u001b[39m\u001b[39m\"\u001b[39m])\n\u001b[0;32m    147\u001b[0m \u001b[39mdef\u001b[39;00m \u001b[39mconcat\u001b[39m(\n\u001b[0;32m    148\u001b[0m     objs: Iterable[NDFrame] \u001b[39m|\u001b[39m Mapping[HashableT, NDFrame],\n\u001b[1;32m   (...)\u001b[0m\n\u001b[0;32m    157\u001b[0m     copy: \u001b[39mbool\u001b[39m \u001b[39m=\u001b[39m \u001b[39mTrue\u001b[39;00m,\n\u001b[0;32m    158\u001b[0m ) \u001b[39m-\u001b[39m\u001b[39m>\u001b[39m DataFrame \u001b[39m|\u001b[39m Series:\n\u001b[0;32m    159\u001b[0m     \u001b[39m\"\"\"\u001b[39;00m\n\u001b[0;32m    160\u001b[0m \u001b[39m    Concatenate pandas objects along a particular axis.\u001b[39;00m\n\u001b[0;32m    161\u001b[0m \n\u001b[1;32m   (...)\u001b[0m\n\u001b[0;32m    366\u001b[0m \u001b[39m    1   3   4\u001b[39;00m\n\u001b[0;32m    367\u001b[0m \u001b[39m    \"\"\"\u001b[39;00m\n\u001b[1;32m--> 368\u001b[0m     op \u001b[39m=\u001b[39m _Concatenator(\n\u001b[0;32m    369\u001b[0m         objs,\n\u001b[0;32m    370\u001b[0m         axis\u001b[39m=\u001b[39;49maxis,\n\u001b[0;32m    371\u001b[0m         ignore_index\u001b[39m=\u001b[39;49mignore_index,\n\u001b[0;32m    372\u001b[0m         join\u001b[39m=\u001b[39;49mjoin,\n\u001b[0;32m    373\u001b[0m         keys\u001b[39m=\u001b[39;49mkeys,\n\u001b[0;32m    374\u001b[0m         levels\u001b[39m=\u001b[39;49mlevels,\n\u001b[0;32m    375\u001b[0m         names\u001b[39m=\u001b[39;49mnames,\n\u001b[0;32m    376\u001b[0m         verify_integrity\u001b[39m=\u001b[39;49mverify_integrity,\n\u001b[0;32m    377\u001b[0m         copy\u001b[39m=\u001b[39;49mcopy,\n\u001b[0;32m    378\u001b[0m         sort\u001b[39m=\u001b[39;49msort,\n\u001b[0;32m    379\u001b[0m     )\n\u001b[0;32m    381\u001b[0m     \u001b[39mreturn\u001b[39;00m op\u001b[39m.\u001b[39mget_result()\n",
      "File \u001b[1;32mc:\\Users\\Ferdi\\AppData\\Local\\Programs\\Python\\Python310\\lib\\site-packages\\pandas\\core\\reshape\\concat.py:458\u001b[0m, in \u001b[0;36m_Concatenator.__init__\u001b[1;34m(self, objs, axis, join, keys, levels, names, ignore_index, verify_integrity, copy, sort)\u001b[0m\n\u001b[0;32m    453\u001b[0m     \u001b[39mif\u001b[39;00m \u001b[39mnot\u001b[39;00m \u001b[39misinstance\u001b[39m(obj, (ABCSeries, ABCDataFrame)):\n\u001b[0;32m    454\u001b[0m         msg \u001b[39m=\u001b[39m (\n\u001b[0;32m    455\u001b[0m             \u001b[39mf\u001b[39m\u001b[39m\"\u001b[39m\u001b[39mcannot concatenate object of type \u001b[39m\u001b[39m'\u001b[39m\u001b[39m{\u001b[39;00m\u001b[39mtype\u001b[39m(obj)\u001b[39m}\u001b[39;00m\u001b[39m'\u001b[39m\u001b[39m; \u001b[39m\u001b[39m\"\u001b[39m\n\u001b[0;32m    456\u001b[0m             \u001b[39m\"\u001b[39m\u001b[39monly Series and DataFrame objs are valid\u001b[39m\u001b[39m\"\u001b[39m\n\u001b[0;32m    457\u001b[0m         )\n\u001b[1;32m--> 458\u001b[0m         \u001b[39mraise\u001b[39;00m \u001b[39mTypeError\u001b[39;00m(msg)\n\u001b[0;32m    460\u001b[0m     ndims\u001b[39m.\u001b[39madd(obj\u001b[39m.\u001b[39mndim)\n\u001b[0;32m    462\u001b[0m \u001b[39m# get the sample\u001b[39;00m\n\u001b[0;32m    463\u001b[0m \u001b[39m# want the highest ndim that we have, and must be non-empty\u001b[39;00m\n\u001b[0;32m    464\u001b[0m \u001b[39m# unless all objs are empty\u001b[39;00m\n",
      "\u001b[1;31mTypeError\u001b[0m: cannot concatenate object of type '<class 'dict'>'; only Series and DataFrame objs are valid"
     ]
    }
   ],
   "source": [
    "df = make_df(size=100)\n",
    "df.to_csv(\"data.csv\", index=False)"
   ]
  }
 ],
 "metadata": {
  "kernelspec": {
   "display_name": "Python 3",
   "language": "python",
   "name": "python3"
  },
  "language_info": {
   "codemirror_mode": {
    "name": "ipython",
    "version": 3
   },
   "file_extension": ".py",
   "mimetype": "text/x-python",
   "name": "python",
   "nbconvert_exporter": "python",
   "pygments_lexer": "ipython3",
   "version": "3.10.7"
  },
  "orig_nbformat": 4
 },
 "nbformat": 4,
 "nbformat_minor": 2
}
