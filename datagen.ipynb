{
 "cells": [
  {
   "cell_type": "code",
   "execution_count": 2,
   "metadata": {},
   "outputs": [],
   "source": [
    "import pandas as pd\n",
    "import numpy as np"
   ]
  },
  {
   "cell_type": "code",
   "execution_count": 3,
   "metadata": {},
   "outputs": [],
   "source": [
    "weekdays = [\n",
    "    (0, 1),\n",
    "    (1, 1),\n",
    "    (2, 0.2),\n",
    "    (3, 1),\n",
    "    (4, 2),\n",
    "    (5, 2),\n",
    "    (6, 1),\n",
    "]\n",
    "months = [\n",
    "    (0, 1.5),\n",
    "    (1, 1.2),\n",
    "    (2, 1),\n",
    "    (3, 1),\n",
    "    (4, 0.5),\n",
    "    (5, 1),\n",
    "    (6, 1),\n",
    "    (7, 1),\n",
    "    (8, 1),\n",
    "    (9, 1),\n",
    "    (10, 1.5),\n",
    "    (11, 2),\n",
    "]\n",
    "# times with arrival coefficient\n",
    "times = [\n",
    "    (3600 * 0, 2),\n",
    "    (3600 * 1, 3),\n",
    "    (3600 * 2, 1),\n",
    "    (3600 * 3, 1),\n",
    "    (3600 * 4, 1),\n",
    "    (3600 * 5, 1),\n",
    "    (3600 * 6, 0.8),\n",
    "    (3600 * 7, 0.3),\n",
    "    (3600 * 8, 0.6),\n",
    "    (3600 * 9, 0.5),\n",
    "    (3600 * 10, 0.4),\n",
    "    (3600 * 11, 0.3),\n",
    "    (3600 * 12, 0.7),\n",
    "    (3600 * 13, 0.5),\n",
    "    (3600 * 14, 0.7),\n",
    "    (3600 * 15, 1),\n",
    "    (3600 * 16, 1),\n",
    "    (3600 * 17, 1),\n",
    "    (3600 * 18, 1),\n",
    "    (3600 * 19, 1),\n",
    "    (3600 * 20, 1.2),\n",
    "    (3600 * 21, 1.5),\n",
    "    (3600 * 22, 1.8),\n",
    "    (3600 * 23, 2),\n",
    "]"
   ]
  },
  {
   "cell_type": "code",
   "execution_count": 4,
   "metadata": {},
   "outputs": [],
   "source": [
    "def make_df(size=100):\n",
    "    outputs = []\n",
    "    for idx in range(size):\n",
    "        weekday_idx = np.random.randint(0, len(weekdays))\n",
    "        weekday = weekdays[weekday_idx]\n",
    "        month_idx = np.random.randint(0, len(months))\n",
    "        month = months[month_idx]\n",
    "        time_idx = np.random.randint(0, len(times))\n",
    "        _time = times[time_idx]\n",
    "\n",
    "        arrival_rate_lam = 1 * weekday[1] * month[1] * _time[1]\n",
    "        arrival_rate = np.random.poisson(lam=arrival_rate_lam)\n",
    "\n",
    "        output = {\n",
    "            \"weekday\": weekday[0],\n",
    "            \"month\": month[0],\n",
    "            \"time\": _time[0],\n",
    "            \"arrivalrate\": arrival_rate,\n",
    "        }\n",
    "        outputs.append(output)\n",
    "    df = pd.DataFrame(outputs)\n",
    "    return df"
   ]
  },
  {
   "cell_type": "code",
   "execution_count": 5,
   "metadata": {},
   "outputs": [],
   "source": [
    "df = make_df(size=100)\n",
    "df.to_csv(\"data/data.csv\", index=False)"
   ]
  }
 ],
 "metadata": {
  "kernelspec": {
   "display_name": "Python 3",
   "language": "python",
   "name": "python3"
  },
  "language_info": {
   "codemirror_mode": {
    "name": "ipython",
    "version": 3
   },
   "file_extension": ".py",
   "mimetype": "text/x-python",
   "name": "python",
   "nbconvert_exporter": "python",
   "pygments_lexer": "ipython3",
   "version": "3.10.7"
  },
  "orig_nbformat": 4
 },
 "nbformat": 4,
 "nbformat_minor": 2
}
